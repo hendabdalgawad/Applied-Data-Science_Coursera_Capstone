{
 "cells": [
  {
   "cell_type": "markdown",
   "metadata": {},
   "source": [
    "# This is a H1_tag <h1> \n",
    "## This is a H2_tag <h2>\n",
    "###### This is a H6_tag<h6>\n",
    "    \n",
    "*This text will be italic*\n",
    "_This will also be italic_\n",
    "\n",
    "**This text will be bold**\n",
    "__This will also be bold__\n",
    "\n",
    "_You **can** combine them_\n",
    "* Item 1\n",
    "* Item 2\n",
    "  * Item 2a\n",
    "  * Item 2b\n",
    "  1. Item 1\n",
    "1. Item 2\n",
    "1. Item 3\n",
    "   1. Item 3a\n",
    "   1. Item 3b\n",
    "   \n",
    "\n",
    "\n",
    "http://github.com - automatic!\n",
    "[GitHub](http://github.com)\n",
    "\n",
    "First Header | Second Header\n",
    "------------ | -------------\n",
    "Content from cell 1 | Content from cell 2\n",
    "Content in the first column | Content in the second column\n",
    "    \n"
   ]
  },
  {
   "cell_type": "code",
   "execution_count": 2,
   "metadata": {},
   "outputs": [
    {
     "name": "stdout",
     "output_type": "stream",
     "text": [
      "Hello Capstone Project Course!\n"
     ]
    }
   ],
   "source": [
    "import pandas as pd \n",
    "import numpy as np \n",
    "print('Hello Capstone Project Course!')\n"
   ]
  },
  {
   "cell_type": "code",
   "execution_count": null,
   "metadata": {},
   "outputs": [],
   "source": []
  }
 ],
 "metadata": {
  "kernelspec": {
   "display_name": "Python 3",
   "language": "python",
   "name": "python3"
  },
  "language_info": {
   "codemirror_mode": {
    "name": "ipython",
    "version": 3
   },
   "file_extension": ".py",
   "mimetype": "text/x-python",
   "name": "python",
   "nbconvert_exporter": "python",
   "pygments_lexer": "ipython3",
   "version": "3.6.5"
  }
 },
 "nbformat": 4,
 "nbformat_minor": 2
}
